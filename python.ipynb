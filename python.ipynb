{
 "cells": [
  {
   "cell_type": "code",
   "execution_count": 1,
   "id": "64cf0061",
   "metadata": {},
   "outputs": [
    {
     "name": "stdout",
     "output_type": "stream",
     "text": [
      "True\n"
     ]
    },
    {
     "data": {
      "text/plain": [
       "True"
      ]
     },
     "execution_count": 1,
     "metadata": {},
     "output_type": "execute_result"
    }
   ],
   "source": [
    "def find_sum(list_num, arr_size, sum):\n",
    "\n",
    "    # Fix the first element as list_num[i]\n",
    "    for i in range(0, arr_size-2):\n",
    "\n",
    "        # Fix the second element as list_num[j]\n",
    "        for j in range(i + 1, arr_size-1):\n",
    "\n",
    "            # Now look for the third number\n",
    "            for k in range(j + 1, arr_size):\n",
    "                if list_num[i] + list_num[j] + list_num[k] == sum:\n",
    "                    print(\"True\")\n",
    "                    return True\n",
    "    else:\n",
    "        print(\"False\")\n",
    "    # If we reach here, then no\n",
    "    # triplet was found\n",
    "    return False\n",
    "\n",
    "\n",
    "# Driver program to test above function\n",
    "list_num = [4, 5, 6, 5, 4]\n",
    "sum = 15\n",
    "arr_size = len(list_num)\n",
    "find_sum(list_num, arr_size, sum)"
   ]
  },
  {
   "cell_type": "code",
   "execution_count": null,
   "id": "e9683002",
   "metadata": {},
   "outputs": [],
   "source": []
  }
 ],
 "metadata": {
  "kernelspec": {
   "display_name": "Python 3 (ipykernel)",
   "language": "python",
   "name": "python3"
  },
  "language_info": {
   "codemirror_mode": {
    "name": "ipython",
    "version": 3
   },
   "file_extension": ".py",
   "mimetype": "text/x-python",
   "name": "python",
   "nbconvert_exporter": "python",
   "pygments_lexer": "ipython3",
   "version": "3.10.9"
  }
 },
 "nbformat": 4,
 "nbformat_minor": 5
}
